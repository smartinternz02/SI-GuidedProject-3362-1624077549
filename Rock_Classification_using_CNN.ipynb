{
 "cells": [
  {
   "cell_type": "markdown",
   "metadata": {},
   "source": [
    "# Detecting Building defects using CNN"
   ]
  },
  {
   "cell_type": "markdown",
   "metadata": {},
   "source": [
    "### Importing Neccessary Libraries"
   ]
  },
  {
   "cell_type": "code",
   "execution_count": 1,
   "metadata": {},
   "outputs": [],
   "source": [
    "import numpy as np#used for numerical analysis\n",
    "import tensorflow #open source used for both ML and DL for computation\n",
    "from tensorflow.keras.models import Sequential #it is a plain stack of layers\n",
    "from tensorflow.keras import layers #A layer consists of a tensor-in tensor-out computation function\n",
    "#Dense layer is the regular deeply connected neural network layer\n",
    "from tensorflow.keras.layers import Dense,Flatten\n",
    "#Faltten-used fot flattening the input or change the dimension\n",
    "from tensorflow.keras.layers import Conv2D,MaxPooling2D #Convolutional layer\n",
    "#MaxPooling2D-for downsampling the image\n",
    "from keras.preprocessing.image import ImageDataGenerator\n"
   ]
  },
  {
   "cell_type": "markdown",
   "metadata": {},
   "source": [
    "### Image Data Agumentation"
   ]
  },
  {
   "cell_type": "code",
   "execution_count": 2,
   "metadata": {},
   "outputs": [],
   "source": [
    "#setting parameter for Image Data agumentation to the training data\n",
    "train_datagen = ImageDataGenerator(rescale=1./255,shear_range=0.2,zoom_range=0.2,horizontal_flip=True)\n",
    "#Image Data agumentation to the testing data\n",
    "test_datagen=ImageDataGenerator(rescale=1./255)"
   ]
  },
  {
   "cell_type": "code",
   "execution_count": null,
   "metadata": {},
   "outputs": [],
   "source": []
  },
  {
   "cell_type": "markdown",
   "metadata": {},
   "source": [
    "### Loading our data and performing data agumentation"
   ]
  },
  {
   "cell_type": "code",
   "execution_count": 3,
   "metadata": {},
   "outputs": [
    {
     "name": "stdout",
     "output_type": "stream",
     "text": [
      "Found 700 images belonging to 5 classes.\n",
      "Found 300 images belonging to 5 classes.\n"
     ]
    }
   ],
   "source": [
    "#performing data agumentation to train data\n",
    "x_train = train_datagen.flow_from_directory(\n",
    "    r'C:\\Users\\botla\\Desktop\\Rock_Classification_Dataset\\Rock_Classification_Dataset\\train_set',\n",
    "    target_size=(64, 64),batch_size=5,color_mode='rgb',class_mode='categorical')\n",
    "#performing data agumentation to test data\n",
    "x_test = test_datagen.flow_from_directory(\n",
    "    r'C:\\Users\\botla\\Desktop\\Rock_Classification_Dataset\\Rock_Classification_Dataset\\test_set',\n",
    "    target_size=(64, 64),batch_size=5,color_mode='rgb',class_mode='categorical') "
   ]
  },
  {
   "cell_type": "code",
   "execution_count": 4,
   "metadata": {},
   "outputs": [
    {
     "name": "stdout",
     "output_type": "stream",
     "text": [
      "{'blue calcite': 0, 'limestone': 1, 'marble': 2, 'olivine': 3, 'red crystal': 4}\n"
     ]
    }
   ],
   "source": [
    "print(x_train.class_indices)#checking the number of classes"
   ]
  },
  {
   "cell_type": "code",
   "execution_count": 5,
   "metadata": {},
   "outputs": [
    {
     "name": "stdout",
     "output_type": "stream",
     "text": [
      "{'blue calcite': 0, 'limestone': 1, 'marble': 2, 'olivine': 3, 'red crystal': 4}\n"
     ]
    }
   ],
   "source": [
    "print(x_test.class_indices)#checking the number of classes"
   ]
  },
  {
   "cell_type": "code",
   "execution_count": 6,
   "metadata": {},
   "outputs": [
    {
     "data": {
      "text/plain": [
       "Counter({0: 140, 1: 140, 2: 140, 3: 140, 4: 140})"
      ]
     },
     "execution_count": 6,
     "metadata": {},
     "output_type": "execute_result"
    }
   ],
   "source": [
    "from collections import Counter as c\n",
    "c(x_train .labels)"
   ]
  },
  {
   "cell_type": "markdown",
   "metadata": {},
   "source": [
    "### Creating the model"
   ]
  },
  {
   "cell_type": "code",
   "execution_count": 7,
   "metadata": {},
   "outputs": [],
   "source": [
    "# Initializing the CNN\n",
    "classifier = Sequential()\n",
    "\n",
    "# First convolution layer and pooling\n",
    "classifier.add(Conv2D(32, (3, 3), input_shape=(64, 64, 3), activation='relu'))\n",
    "classifier.add(MaxPooling2D(pool_size=(2, 2)))\n",
    "# Second convolution layer and pooling\n",
    "classifier.add(Conv2D(32, (3, 3), activation='relu'))\n",
    "# input_shape is going to be the pooled feature maps from the previous convolution layer\n",
    "classifier.add(MaxPooling2D(pool_size=(2, 2)))\n",
    "\n",
    "# Flattening the layers\n",
    "classifier.add(Flatten())\n",
    "\n",
    "# Adding a fully connected layer\n",
    "classifier.add(Dense(units=128, activation='relu'))\n",
    "classifier.add(Dense(units=5, activation='softmax')) # softmax for more than 2\n",
    "\n"
   ]
  },
  {
   "cell_type": "code",
   "execution_count": 8,
   "metadata": {},
   "outputs": [
    {
     "name": "stdout",
     "output_type": "stream",
     "text": [
      "Model: \"sequential\"\n",
      "_________________________________________________________________\n",
      "Layer (type)                 Output Shape              Param #   \n",
      "=================================================================\n",
      "conv2d (Conv2D)              (None, 62, 62, 32)        896       \n",
      "_________________________________________________________________\n",
      "max_pooling2d (MaxPooling2D) (None, 31, 31, 32)        0         \n",
      "_________________________________________________________________\n",
      "conv2d_1 (Conv2D)            (None, 29, 29, 32)        9248      \n",
      "_________________________________________________________________\n",
      "max_pooling2d_1 (MaxPooling2 (None, 14, 14, 32)        0         \n",
      "_________________________________________________________________\n",
      "flatten (Flatten)            (None, 6272)              0         \n",
      "_________________________________________________________________\n",
      "dense (Dense)                (None, 128)               802944    \n",
      "_________________________________________________________________\n",
      "dense_1 (Dense)              (None, 5)                 645       \n",
      "=================================================================\n",
      "Total params: 813,733\n",
      "Trainable params: 813,733\n",
      "Non-trainable params: 0\n",
      "_________________________________________________________________\n"
     ]
    }
   ],
   "source": [
    "classifier.summary()#summary of our model"
   ]
  },
  {
   "cell_type": "markdown",
   "metadata": {},
   "source": [
    "### Compiling the model"
   ]
  },
  {
   "cell_type": "code",
   "execution_count": 9,
   "metadata": {},
   "outputs": [],
   "source": [
    "# Compiling the CNN\n",
    "# categorical_crossentropy for more than 2\n",
    "classifier.compile(optimizer='adam', loss='categorical_crossentropy', metrics=['accuracy']) "
   ]
  },
  {
   "cell_type": "markdown",
   "metadata": {},
   "source": [
    "## Fitting the model"
   ]
  },
  {
   "cell_type": "code",
   "execution_count": 10,
   "metadata": {
    "scrolled": true
   },
   "outputs": [
    {
     "name": "stderr",
     "output_type": "stream",
     "text": [
      "C:\\Users\\botla\\anaconda3\\lib\\site-packages\\tensorflow\\python\\keras\\engine\\training.py:1940: UserWarning: `Model.fit_generator` is deprecated and will be removed in a future version. Please use `Model.fit`, which supports generators.\n",
      "  warnings.warn('`Model.fit_generator` is deprecated and '\n"
     ]
    },
    {
     "name": "stdout",
     "output_type": "stream",
     "text": [
      "Epoch 1/50\n",
      "140/140 [==============================] - 44s 310ms/step - loss: 0.9498 - accuracy: 0.5986 - val_loss: 0.5348 - val_accuracy: 0.8200\n",
      "Epoch 2/50\n",
      "140/140 [==============================] - 4s 29ms/step - loss: 0.5380 - accuracy: 0.7557 - val_loss: 0.5483 - val_accuracy: 0.7800\n",
      "Epoch 3/50\n",
      "140/140 [==============================] - 4s 28ms/step - loss: 0.4946 - accuracy: 0.8014 - val_loss: 0.3791 - val_accuracy: 0.8800\n",
      "Epoch 4/50\n",
      "140/140 [==============================] - 4s 29ms/step - loss: 0.3831 - accuracy: 0.8371 - val_loss: 0.5210 - val_accuracy: 0.8167\n",
      "Epoch 5/50\n",
      "140/140 [==============================] - 4s 28ms/step - loss: 0.3763 - accuracy: 0.8429 - val_loss: 0.6413 - val_accuracy: 0.8067\n",
      "Epoch 6/50\n",
      "140/140 [==============================] - 4s 28ms/step - loss: 0.3547 - accuracy: 0.8614 - val_loss: 0.6080 - val_accuracy: 0.8500\n",
      "Epoch 7/50\n",
      "140/140 [==============================] - 4s 28ms/step - loss: 0.3249 - accuracy: 0.8700 - val_loss: 0.4677 - val_accuracy: 0.8433\n",
      "Epoch 8/50\n",
      "140/140 [==============================] - 4s 28ms/step - loss: 0.3119 - accuracy: 0.8729 - val_loss: 0.4637 - val_accuracy: 0.8867\n",
      "Epoch 9/50\n",
      "140/140 [==============================] - 4s 31ms/step - loss: 0.3046 - accuracy: 0.8729 - val_loss: 0.5751 - val_accuracy: 0.8300\n",
      "Epoch 10/50\n",
      "140/140 [==============================] - 4s 30ms/step - loss: 0.3107 - accuracy: 0.8886 - val_loss: 0.3620 - val_accuracy: 0.9000\n",
      "Epoch 11/50\n",
      "140/140 [==============================] - 4s 30ms/step - loss: 0.3165 - accuracy: 0.8757 - val_loss: 0.6845 - val_accuracy: 0.8467\n",
      "Epoch 12/50\n",
      "140/140 [==============================] - 4s 30ms/step - loss: 0.2797 - accuracy: 0.8743 - val_loss: 0.4044 - val_accuracy: 0.9033\n",
      "Epoch 13/50\n",
      "140/140 [==============================] - 5s 35ms/step - loss: 0.2332 - accuracy: 0.9043 - val_loss: 0.3469 - val_accuracy: 0.9000\n",
      "Epoch 14/50\n",
      "140/140 [==============================] - 5s 38ms/step - loss: 0.2381 - accuracy: 0.8971 - val_loss: 0.4881 - val_accuracy: 0.8833\n",
      "Epoch 15/50\n",
      "140/140 [==============================] - 4s 30ms/step - loss: 0.3145 - accuracy: 0.8757 - val_loss: 0.4099 - val_accuracy: 0.8833\n",
      "Epoch 16/50\n",
      "140/140 [==============================] - 5s 32ms/step - loss: 0.2222 - accuracy: 0.9014 - val_loss: 0.4976 - val_accuracy: 0.8733\n",
      "Epoch 17/50\n",
      "140/140 [==============================] - 5s 36ms/step - loss: 0.1902 - accuracy: 0.9329 - val_loss: 0.4819 - val_accuracy: 0.8333\n",
      "Epoch 18/50\n",
      "140/140 [==============================] - 5s 38ms/step - loss: 0.1890 - accuracy: 0.9271 - val_loss: 0.4284 - val_accuracy: 0.8967\n",
      "Epoch 19/50\n",
      "140/140 [==============================] - 4s 31ms/step - loss: 0.2156 - accuracy: 0.9286 - val_loss: 0.4064 - val_accuracy: 0.8733\n",
      "Epoch 20/50\n",
      "140/140 [==============================] - 5s 36ms/step - loss: 0.1922 - accuracy: 0.9314 - val_loss: 0.5416 - val_accuracy: 0.8767\n",
      "Epoch 21/50\n",
      "140/140 [==============================] - 6s 45ms/step - loss: 0.1898 - accuracy: 0.9157 - val_loss: 0.4266 - val_accuracy: 0.8833\n",
      "Epoch 22/50\n",
      "140/140 [==============================] - 5s 38ms/step - loss: 0.1821 - accuracy: 0.9343 - val_loss: 0.4532 - val_accuracy: 0.8800\n",
      "Epoch 23/50\n",
      "140/140 [==============================] - 6s 43ms/step - loss: 0.1627 - accuracy: 0.9257 - val_loss: 0.6069 - val_accuracy: 0.8667\n",
      "Epoch 24/50\n",
      "140/140 [==============================] - 4s 31ms/step - loss: 0.2989 - accuracy: 0.8971 - val_loss: 0.6797 - val_accuracy: 0.8000\n",
      "Epoch 25/50\n",
      "140/140 [==============================] - 5s 35ms/step - loss: 0.2334 - accuracy: 0.8971 - val_loss: 0.5428 - val_accuracy: 0.8800\n",
      "Epoch 26/50\n",
      "140/140 [==============================] - 5s 34ms/step - loss: 0.1865 - accuracy: 0.9286 - val_loss: 0.4412 - val_accuracy: 0.9000\n",
      "Epoch 27/50\n",
      "140/140 [==============================] - 7s 48ms/step - loss: 0.1550 - accuracy: 0.9314 - val_loss: 0.5677 - val_accuracy: 0.9000\n",
      "Epoch 28/50\n",
      "140/140 [==============================] - 6s 44ms/step - loss: 0.2063 - accuracy: 0.9286 - val_loss: 0.4969 - val_accuracy: 0.8967\n",
      "Epoch 29/50\n",
      "140/140 [==============================] - 6s 45ms/step - loss: 0.1426 - accuracy: 0.9457 - val_loss: 0.5907 - val_accuracy: 0.8800\n",
      "Epoch 30/50\n",
      "140/140 [==============================] - 5s 37ms/step - loss: 0.1377 - accuracy: 0.9414 - val_loss: 0.7549 - val_accuracy: 0.8233\n",
      "Epoch 31/50\n",
      "140/140 [==============================] - 5s 36ms/step - loss: 0.1785 - accuracy: 0.9300 - val_loss: 0.7347 - val_accuracy: 0.7033\n",
      "Epoch 32/50\n",
      "140/140 [==============================] - 5s 36ms/step - loss: 0.1996 - accuracy: 0.9257 - val_loss: 0.5213 - val_accuracy: 0.9000\n",
      "Epoch 33/50\n",
      "140/140 [==============================] - 5s 38ms/step - loss: 0.1605 - accuracy: 0.9329 - val_loss: 0.5335 - val_accuracy: 0.8867\n",
      "Epoch 34/50\n",
      "140/140 [==============================] - 5s 36ms/step - loss: 0.1110 - accuracy: 0.9543 - val_loss: 0.5883 - val_accuracy: 0.8533\n",
      "Epoch 35/50\n",
      "140/140 [==============================] - 5s 34ms/step - loss: 0.1000 - accuracy: 0.9571 - val_loss: 0.5289 - val_accuracy: 0.8900\n",
      "Epoch 36/50\n",
      "140/140 [==============================] - 5s 33ms/step - loss: 0.0766 - accuracy: 0.9671 - val_loss: 0.6274 - val_accuracy: 0.8200\n",
      "Epoch 37/50\n",
      "140/140 [==============================] - 5s 34ms/step - loss: 0.1311 - accuracy: 0.9486 - val_loss: 0.6673 - val_accuracy: 0.8233\n",
      "Epoch 38/50\n",
      "140/140 [==============================] - 5s 37ms/step - loss: 0.1037 - accuracy: 0.9643 - val_loss: 0.7445 - val_accuracy: 0.8900\n",
      "Epoch 39/50\n",
      "140/140 [==============================] - 5s 36ms/step - loss: 0.1970 - accuracy: 0.9329 - val_loss: 0.8003 - val_accuracy: 0.8333\n",
      "Epoch 40/50\n",
      "140/140 [==============================] - 5s 39ms/step - loss: 0.1810 - accuracy: 0.9386 - val_loss: 1.0182 - val_accuracy: 0.8400\n",
      "Epoch 41/50\n",
      "140/140 [==============================] - 5s 36ms/step - loss: 0.2154 - accuracy: 0.9243 - val_loss: 0.7574 - val_accuracy: 0.8000\n",
      "Epoch 42/50\n",
      "140/140 [==============================] - 5s 38ms/step - loss: 0.2486 - accuracy: 0.9043 - val_loss: 0.4640 - val_accuracy: 0.8967\n",
      "Epoch 43/50\n",
      "140/140 [==============================] - 6s 39ms/step - loss: 0.1229 - accuracy: 0.9557 - val_loss: 0.5822 - val_accuracy: 0.8900\n",
      "Epoch 44/50\n",
      "140/140 [==============================] - 5s 38ms/step - loss: 0.1299 - accuracy: 0.9600 - val_loss: 0.5444 - val_accuracy: 0.8700\n",
      "Epoch 45/50\n",
      "140/140 [==============================] - 5s 33ms/step - loss: 0.0872 - accuracy: 0.9657 - val_loss: 0.6056 - val_accuracy: 0.8667\n",
      "Epoch 46/50\n",
      "140/140 [==============================] - 4s 31ms/step - loss: 0.1017 - accuracy: 0.9529 - val_loss: 0.7291 - val_accuracy: 0.8900\n",
      "Epoch 47/50\n",
      "140/140 [==============================] - 6s 45ms/step - loss: 0.1092 - accuracy: 0.9557 - val_loss: 0.7931 - val_accuracy: 0.8567\n",
      "Epoch 48/50\n",
      "140/140 [==============================] - 6s 44ms/step - loss: 0.1016 - accuracy: 0.9614 - val_loss: 0.5768 - val_accuracy: 0.9067\n",
      "Epoch 49/50\n",
      "140/140 [==============================] - 4s 32ms/step - loss: 0.1057 - accuracy: 0.9514 - val_loss: 0.5571 - val_accuracy: 0.8800\n",
      "Epoch 50/50\n",
      "140/140 [==============================] - 4s 31ms/step - loss: 0.1252 - accuracy: 0.9557 - val_loss: 0.6034 - val_accuracy: 0.8633\n"
     ]
    },
    {
     "data": {
      "text/plain": [
       "<tensorflow.python.keras.callbacks.History at 0x2a054838040>"
      ]
     },
     "execution_count": 10,
     "metadata": {},
     "output_type": "execute_result"
    }
   ],
   "source": [
    "classifier.fit_generator(\n",
    "        generator=x_train,steps_per_epoch = len(x_train),\n",
    "        epochs=50, validation_data=x_test,validation_steps = len(x_test))# No of images in test set"
   ]
  },
  {
   "cell_type": "markdown",
   "metadata": {},
   "source": [
    "### Saving our model"
   ]
  },
  {
   "cell_type": "code",
   "execution_count": 15,
   "metadata": {},
   "outputs": [],
   "source": [
    "# Save the model\n",
    "classifier.save('rock.h5')"
   ]
  },
  {
   "cell_type": "code",
   "execution_count": null,
   "metadata": {},
   "outputs": [],
   "source": []
  },
  {
   "cell_type": "code",
   "execution_count": null,
   "metadata": {},
   "outputs": [],
   "source": []
  },
  {
   "cell_type": "markdown",
   "metadata": {},
   "source": [
    "### Predicting our results"
   ]
  },
  {
   "cell_type": "code",
   "execution_count": 17,
   "metadata": {},
   "outputs": [],
   "source": [
    "from tensorflow.keras.models import load_model\n",
    "from keras.preprocessing import image\n",
    "model = load_model(\"rock.h5\") #loading the model for testing"
   ]
  },
  {
   "cell_type": "code",
   "execution_count": 25,
   "metadata": {},
   "outputs": [
    {
     "data": {
      "text/plain": [
       "array([2], dtype=int64)"
      ]
     },
     "execution_count": 25,
     "metadata": {},
     "output_type": "execute_result"
    }
   ],
   "source": [
    "img = image.load_img(r\"C:\\Users\\botla\\Desktop\\Rock_Classification_Dataset\\Rock_Classification_Dataset\\train_set\\marble\\marble15.jpg\",\n",
    "                     grayscale=False,target_size= (64,64))#loading of the image\n",
    "x = image.img_to_array(img)#image to array\n",
    "x = np.expand_dims(x,axis = 0)#changing the shape\n",
    "pred = model.predict_classes(x)#predicting the classes\n",
    "pred"
   ]
  },
  {
   "cell_type": "code",
   "execution_count": 26,
   "metadata": {},
   "outputs": [
    {
     "data": {
      "text/plain": [
       "'marble'"
      ]
     },
     "execution_count": 26,
     "metadata": {},
     "output_type": "execute_result"
    }
   ],
   "source": [
    "index=['blue calcite', 'limestone', 'marble', 'olivine', 'red crystal']\n",
    "result=str(index[pred[0]])\n",
    "result"
   ]
  },
  {
   "cell_type": "code",
   "execution_count": null,
   "metadata": {},
   "outputs": [],
   "source": []
  },
  {
   "cell_type": "code",
   "execution_count": null,
   "metadata": {},
   "outputs": [],
   "source": []
  },
  {
   "cell_type": "code",
   "execution_count": null,
   "metadata": {},
   "outputs": [],
   "source": []
  },
  {
   "cell_type": "code",
   "execution_count": null,
   "metadata": {},
   "outputs": [],
   "source": []
  }
 ],
 "metadata": {
  "kernelspec": {
   "display_name": "Python 3",
   "language": "python",
   "name": "python3"
  },
  "language_info": {
   "codemirror_mode": {
    "name": "ipython",
    "version": 3
   },
   "file_extension": ".py",
   "mimetype": "text/x-python",
   "name": "python",
   "nbconvert_exporter": "python",
   "pygments_lexer": "ipython3",
   "version": "3.8.5"
  }
 },
 "nbformat": 4,
 "nbformat_minor": 4
}
